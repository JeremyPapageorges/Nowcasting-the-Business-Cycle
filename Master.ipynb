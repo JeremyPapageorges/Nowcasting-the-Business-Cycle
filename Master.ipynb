{
 "cells": [
  {
   "cell_type": "code",
   "execution_count": 41,
   "metadata": {},
   "outputs": [],
   "source": [
    "import os\n",
    "import sys\n",
    "import importlib\n",
    "from datetime import date, timedelta\n",
    "from dateutil.relativedelta import relativedelta\n",
    "\n",
    "import Data_Sourcing_v1\n",
    "importlib.reload(Data_Sourcing_v1)\n",
    "from Data_Sourcing_v1 import download_data\n"
   ]
  },
  {
   "cell_type": "code",
   "execution_count": 42,
   "metadata": {},
   "outputs": [
    {
     "name": "stdout",
     "output_type": "stream",
     "text": [
      "c:\\Users\\jerem\\Documents\\GitHub\\Nowcasting-the-Business-Cycle\n",
      "C:\\Users\\jerem\\AppData\\Local\\Microsoft\\WindowsApps\\PythonSoftwareFoundation.Python.3.12_qbz5n2kfra8p0\\python.exe\n"
     ]
    }
   ],
   "source": [
    "print(os.getcwd())\n",
    "print(sys.executable)"
   ]
  },
  {
   "cell_type": "code",
   "execution_count": 43,
   "metadata": {},
   "outputs": [
    {
     "name": "stdout",
     "output_type": "stream",
     "text": [
      "data begins at 1994-10-27 and ends at date 2024-10-27\n",
      "FREQUENCY OF EACH TICKER:\n",
      "SP500 : Daily, Close\n"
     ]
    },
    {
     "name": "stderr",
     "output_type": "stream",
     "text": [
      "c:\\Users\\jerem\\Documents\\GitHub\\Nowcasting-the-Business-Cycle\\Data_Sourcing_v1.py:29: FutureWarning: 'M' is deprecated and will be removed in a future version, please use 'ME' instead.\n",
      "  monthly_averages = combined_data.resample('M').mean()\n"
     ]
    }
   ],
   "source": [
    "# define the tickers necessary for the dashboards\n",
    "\n",
    "Markets = ['SP500', 'GS10','TB3MS', 'DBAA', 'DAAA','BAMLH0A0HYM2','DCOILWTICO']\n",
    "stock_market = ['SP500']\n",
    "end_date = date.today() - timedelta(days = 1)\n",
    "start_date = end_date - relativedelta(years = 30)\n",
    "print(f'data begins at {start_date} and ends at date {end_date}')\n",
    "\n",
    "(stock_market_data,\n",
    "  stock_market_data_averages,\n",
    "    stock_market_data_averages_12m_change) = download_data(stock_market, start_date, end_date)\n"
   ]
  },
  {
   "cell_type": "code",
   "execution_count": null,
   "metadata": {},
   "outputs": [],
   "source": []
  }
 ],
 "metadata": {
  "kernelspec": {
   "display_name": "Python 3",
   "language": "python",
   "name": "python3"
  },
  "language_info": {
   "codemirror_mode": {
    "name": "ipython",
    "version": 3
   },
   "file_extension": ".py",
   "mimetype": "text/x-python",
   "name": "python",
   "nbconvert_exporter": "python",
   "pygments_lexer": "ipython3",
   "version": "3.12.7"
  }
 },
 "nbformat": 4,
 "nbformat_minor": 2
}
